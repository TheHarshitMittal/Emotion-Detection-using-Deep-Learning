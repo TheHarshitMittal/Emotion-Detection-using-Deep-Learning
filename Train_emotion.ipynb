{
 "cells": [
  {
   "cell_type": "code",
   "execution_count": 1,
   "id": "38cdc134-0117-4c10-a68a-292e1919ce28",
   "metadata": {
    "tags": []
   },
   "outputs": [],
   "source": [
    "# import required packages\n",
    "import cv2\n",
    "from keras.models import Sequential\n",
    "from keras.layers import Conv2D, MaxPooling2D, Dense, Dropout, Flatten\n",
    "from keras.optimizers import Adam\n",
    "from keras.preprocessing.image import ImageDataGenerator"
   ]
  },
  {
   "cell_type": "code",
   "execution_count": 2,
   "id": "fca272f6-9e87-4968-8a5c-bd474408feb0",
   "metadata": {
    "tags": []
   },
   "outputs": [],
   "source": [
    "# Initialize image data generator with rescaling\n",
    "train_data_gen = ImageDataGenerator(rescale=1./255)\n",
    "validation_data_gen = ImageDataGenerator(rescale=1./255)"
   ]
  },
  {
   "cell_type": "code",
   "execution_count": 5,
   "id": "b09ac4e2-53db-4a6a-bfd9-b748985c9f2e",
   "metadata": {
    "tags": []
   },
   "outputs": [
    {
     "name": "stdout",
     "output_type": "stream",
     "text": [
      "Found 28709 images belonging to 7 classes.\n"
     ]
    }
   ],
   "source": [
    "# Preprocess all test images\n",
    "train_generator = train_data_gen.flow_from_directory(\n",
    "        'emotion-detection-fer/train',\n",
    "        target_size=(48, 48),\n",
    "        batch_size=64,\n",
    "        color_mode=\"grayscale\",\n",
    "        class_mode='categorical')"
   ]
  },
  {
   "cell_type": "code",
   "execution_count": 6,
   "id": "7ba21053-982a-4d04-b45f-a19d5b00a170",
   "metadata": {
    "tags": []
   },
   "outputs": [
    {
     "name": "stdout",
     "output_type": "stream",
     "text": [
      "Found 7178 images belonging to 7 classes.\n"
     ]
    }
   ],
   "source": [
    "# Preprocess all train images\n",
    "validation_generator = validation_data_gen.flow_from_directory(\n",
    "        'emotion-detection-fer/test',\n",
    "        target_size=(48, 48),\n",
    "        batch_size=64,\n",
    "        color_mode=\"grayscale\",\n",
    "        class_mode='categorical')"
   ]
  },
  {
   "cell_type": "code",
   "execution_count": 7,
   "id": "744b10c4-3c45-45f9-b818-e3bbc9ac8cdb",
   "metadata": {
    "tags": []
   },
   "outputs": [
    {
     "name": "stderr",
     "output_type": "stream",
     "text": [
      "C:\\Users\\mitta\\AppData\\Local\\Programs\\Python\\Python310\\lib\\site-packages\\keras\\optimizers\\legacy\\adam.py:117: UserWarning: The `lr` argument is deprecated, use `learning_rate` instead.\n",
      "  super().__init__(name, **kwargs)\n"
     ]
    }
   ],
   "source": [
    "# create model structure\n",
    "emotion_model = Sequential()\n",
    "\n",
    "emotion_model.add(Conv2D(32, kernel_size=(3, 3), activation='relu', input_shape=(48, 48, 1)))\n",
    "emotion_model.add(Conv2D(64, kernel_size=(3, 3), activation='relu'))\n",
    "emotion_model.add(MaxPooling2D(pool_size=(2, 2)))\n",
    "emotion_model.add(Dropout(0.25))\n",
    "\n",
    "emotion_model.add(Conv2D(128, kernel_size=(3, 3), activation='relu'))\n",
    "emotion_model.add(MaxPooling2D(pool_size=(2, 2)))\n",
    "emotion_model.add(Conv2D(128, kernel_size=(3, 3), activation='relu'))\n",
    "emotion_model.add(MaxPooling2D(pool_size=(2, 2)))\n",
    "emotion_model.add(Dropout(0.25))\n",
    "\n",
    "emotion_model.add(Flatten())\n",
    "emotion_model.add(Dense(1024, activation='relu'))\n",
    "emotion_model.add(Dropout(0.5))\n",
    "emotion_model.add(Dense(7, activation='softmax'))\n",
    "\n",
    "cv2.ocl.setUseOpenCL(False)\n",
    "\n",
    "emotion_model.compile(loss='categorical_crossentropy', optimizer=Adam(lr=0.0001, decay=1e-6), metrics=['accuracy'])"
   ]
  },
  {
   "cell_type": "code",
   "execution_count": 8,
   "id": "c88cd507-02ba-470c-af4d-1d3d80a13822",
   "metadata": {
    "tags": []
   },
   "outputs": [
    {
     "name": "stderr",
     "output_type": "stream",
     "text": [
      "C:\\Users\\mitta\\AppData\\Local\\Temp\\ipykernel_12936\\3198193097.py:2: UserWarning: `Model.fit_generator` is deprecated and will be removed in a future version. Please use `Model.fit`, which supports generators.\n",
      "  emotion_model_info = emotion_model.fit_generator(\n"
     ]
    },
    {
     "name": "stdout",
     "output_type": "stream",
     "text": [
      "Epoch 1/50\n",
      "448/448 [==============================] - 146s 322ms/step - loss: 1.7995 - accuracy: 0.2630 - val_loss: 1.7036 - val_accuracy: 0.3327\n",
      "Epoch 2/50\n",
      "448/448 [==============================] - 137s 306ms/step - loss: 1.6176 - accuracy: 0.3716 - val_loss: 1.5168 - val_accuracy: 0.4212\n",
      "Epoch 3/50\n",
      "448/448 [==============================] - 139s 311ms/step - loss: 1.5072 - accuracy: 0.4174 - val_loss: 1.4365 - val_accuracy: 0.4549\n",
      "Epoch 4/50\n",
      "448/448 [==============================] - 138s 307ms/step - loss: 1.4435 - accuracy: 0.4475 - val_loss: 1.4075 - val_accuracy: 0.4681\n",
      "Epoch 5/50\n",
      "448/448 [==============================] - 138s 308ms/step - loss: 1.3844 - accuracy: 0.4733 - val_loss: 1.3425 - val_accuracy: 0.4916\n",
      "Epoch 6/50\n",
      "448/448 [==============================] - 145s 323ms/step - loss: 1.3343 - accuracy: 0.4931 - val_loss: 1.2996 - val_accuracy: 0.5056\n",
      "Epoch 7/50\n",
      "448/448 [==============================] - 147s 329ms/step - loss: 1.2901 - accuracy: 0.5113 - val_loss: 1.2626 - val_accuracy: 0.5222\n",
      "Epoch 8/50\n",
      "448/448 [==============================] - 147s 329ms/step - loss: 1.2521 - accuracy: 0.5277 - val_loss: 1.2443 - val_accuracy: 0.5349\n",
      "Epoch 9/50\n",
      "448/448 [==============================] - 146s 326ms/step - loss: 1.2181 - accuracy: 0.5410 - val_loss: 1.2065 - val_accuracy: 0.5393\n",
      "Epoch 10/50\n",
      "448/448 [==============================] - 146s 327ms/step - loss: 1.1909 - accuracy: 0.5548 - val_loss: 1.1946 - val_accuracy: 0.5438\n",
      "Epoch 11/50\n",
      "448/448 [==============================] - 143s 320ms/step - loss: 1.1554 - accuracy: 0.5648 - val_loss: 1.1717 - val_accuracy: 0.5532\n",
      "Epoch 12/50\n",
      "448/448 [==============================] - 138s 308ms/step - loss: 1.1299 - accuracy: 0.5798 - val_loss: 1.1514 - val_accuracy: 0.5650\n",
      "Epoch 13/50\n",
      "448/448 [==============================] - 147s 328ms/step - loss: 1.1056 - accuracy: 0.5862 - val_loss: 1.1382 - val_accuracy: 0.5658\n",
      "Epoch 14/50\n",
      "448/448 [==============================] - 229s 512ms/step - loss: 1.0797 - accuracy: 0.5961 - val_loss: 1.1259 - val_accuracy: 0.5705\n",
      "Epoch 15/50\n",
      "448/448 [==============================] - 294s 657ms/step - loss: 1.0532 - accuracy: 0.6048 - val_loss: 1.1104 - val_accuracy: 0.5801\n",
      "Epoch 16/50\n",
      "448/448 [==============================] - 276s 616ms/step - loss: 1.0324 - accuracy: 0.6154 - val_loss: 1.1095 - val_accuracy: 0.5755\n",
      "Epoch 17/50\n",
      "448/448 [==============================] - 258s 575ms/step - loss: 1.0155 - accuracy: 0.6232 - val_loss: 1.1114 - val_accuracy: 0.5795\n",
      "Epoch 18/50\n",
      "448/448 [==============================] - 245s 546ms/step - loss: 0.9889 - accuracy: 0.6309 - val_loss: 1.1136 - val_accuracy: 0.5836\n",
      "Epoch 19/50\n",
      "448/448 [==============================] - 260s 580ms/step - loss: 0.9651 - accuracy: 0.6445 - val_loss: 1.0898 - val_accuracy: 0.5873\n",
      "Epoch 20/50\n",
      "448/448 [==============================] - 258s 576ms/step - loss: 0.9463 - accuracy: 0.6476 - val_loss: 1.0871 - val_accuracy: 0.5914\n",
      "Epoch 21/50\n",
      "448/448 [==============================] - 275s 614ms/step - loss: 0.9186 - accuracy: 0.6614 - val_loss: 1.0685 - val_accuracy: 0.6002\n",
      "Epoch 22/50\n",
      "448/448 [==============================] - 152s 338ms/step - loss: 0.9035 - accuracy: 0.6636 - val_loss: 1.0786 - val_accuracy: 0.5993\n",
      "Epoch 23/50\n",
      "448/448 [==============================] - 142s 318ms/step - loss: 0.8800 - accuracy: 0.6762 - val_loss: 1.0602 - val_accuracy: 0.6030\n",
      "Epoch 24/50\n",
      "448/448 [==============================] - 149s 332ms/step - loss: 0.8580 - accuracy: 0.6839 - val_loss: 1.0700 - val_accuracy: 0.6025\n",
      "Epoch 25/50\n",
      "448/448 [==============================] - 151s 336ms/step - loss: 0.8345 - accuracy: 0.6942 - val_loss: 1.0617 - val_accuracy: 0.6115\n",
      "Epoch 26/50\n",
      "448/448 [==============================] - 142s 318ms/step - loss: 0.8135 - accuracy: 0.7035 - val_loss: 1.0671 - val_accuracy: 0.6120\n",
      "Epoch 27/50\n",
      "448/448 [==============================] - 147s 328ms/step - loss: 0.7888 - accuracy: 0.7103 - val_loss: 1.0708 - val_accuracy: 0.6109\n",
      "Epoch 28/50\n",
      "448/448 [==============================] - 152s 339ms/step - loss: 0.7700 - accuracy: 0.7193 - val_loss: 1.0705 - val_accuracy: 0.6109\n",
      "Epoch 29/50\n",
      "448/448 [==============================] - 144s 322ms/step - loss: 0.7473 - accuracy: 0.7259 - val_loss: 1.0602 - val_accuracy: 0.6164\n",
      "Epoch 30/50\n",
      "448/448 [==============================] - 132s 295ms/step - loss: 0.7233 - accuracy: 0.7342 - val_loss: 1.0723 - val_accuracy: 0.6138\n",
      "Epoch 31/50\n",
      "448/448 [==============================] - 154s 344ms/step - loss: 0.7052 - accuracy: 0.7424 - val_loss: 1.0735 - val_accuracy: 0.6189\n",
      "Epoch 32/50\n",
      "448/448 [==============================] - 151s 338ms/step - loss: 0.6864 - accuracy: 0.7499 - val_loss: 1.0836 - val_accuracy: 0.6179\n",
      "Epoch 33/50\n",
      "448/448 [==============================] - 137s 306ms/step - loss: 0.6566 - accuracy: 0.7640 - val_loss: 1.0753 - val_accuracy: 0.6207\n",
      "Epoch 34/50\n",
      "448/448 [==============================] - 146s 326ms/step - loss: 0.6406 - accuracy: 0.7692 - val_loss: 1.0917 - val_accuracy: 0.6228\n",
      "Epoch 35/50\n",
      "448/448 [==============================] - 148s 331ms/step - loss: 0.6197 - accuracy: 0.7748 - val_loss: 1.0957 - val_accuracy: 0.6264\n",
      "Epoch 36/50\n",
      "448/448 [==============================] - 146s 325ms/step - loss: 0.5990 - accuracy: 0.7816 - val_loss: 1.0940 - val_accuracy: 0.6225\n",
      "Epoch 37/50\n",
      "448/448 [==============================] - 145s 325ms/step - loss: 0.5724 - accuracy: 0.7922 - val_loss: 1.1039 - val_accuracy: 0.6242\n",
      "Epoch 38/50\n",
      "448/448 [==============================] - 144s 322ms/step - loss: 0.5635 - accuracy: 0.7950 - val_loss: 1.0932 - val_accuracy: 0.6249\n",
      "Epoch 39/50\n",
      "448/448 [==============================] - 143s 320ms/step - loss: 0.5389 - accuracy: 0.8040 - val_loss: 1.1021 - val_accuracy: 0.6270\n",
      "Epoch 40/50\n",
      "448/448 [==============================] - 144s 321ms/step - loss: 0.5272 - accuracy: 0.8090 - val_loss: 1.1266 - val_accuracy: 0.6288\n",
      "Epoch 41/50\n",
      "448/448 [==============================] - 144s 322ms/step - loss: 0.5021 - accuracy: 0.8193 - val_loss: 1.1205 - val_accuracy: 0.6323\n",
      "Epoch 42/50\n",
      "448/448 [==============================] - 148s 330ms/step - loss: 0.4958 - accuracy: 0.8211 - val_loss: 1.1305 - val_accuracy: 0.6283\n",
      "Epoch 43/50\n",
      "448/448 [==============================] - 148s 331ms/step - loss: 0.4738 - accuracy: 0.8262 - val_loss: 1.1290 - val_accuracy: 0.6270\n",
      "Epoch 44/50\n",
      "448/448 [==============================] - 143s 319ms/step - loss: 0.4610 - accuracy: 0.8319 - val_loss: 1.1473 - val_accuracy: 0.6313\n",
      "Epoch 45/50\n",
      "448/448 [==============================] - 146s 325ms/step - loss: 0.4481 - accuracy: 0.8387 - val_loss: 1.1580 - val_accuracy: 0.6247\n",
      "Epoch 46/50\n",
      "448/448 [==============================] - 147s 328ms/step - loss: 0.4341 - accuracy: 0.8434 - val_loss: 1.1592 - val_accuracy: 0.6225\n",
      "Epoch 47/50\n",
      "448/448 [==============================] - 141s 315ms/step - loss: 0.4163 - accuracy: 0.8514 - val_loss: 1.1454 - val_accuracy: 0.6296\n",
      "Epoch 48/50\n",
      "448/448 [==============================] - 142s 318ms/step - loss: 0.4023 - accuracy: 0.8546 - val_loss: 1.1739 - val_accuracy: 0.6275\n",
      "Epoch 49/50\n",
      "448/448 [==============================] - 143s 320ms/step - loss: 0.3949 - accuracy: 0.8583 - val_loss: 1.1969 - val_accuracy: 0.6310\n",
      "Epoch 50/50\n",
      "448/448 [==============================] - 144s 322ms/step - loss: 0.3771 - accuracy: 0.8647 - val_loss: 1.1832 - val_accuracy: 0.6295\n"
     ]
    }
   ],
   "source": [
    "# Train the neural network/model\n",
    "emotion_model_info = emotion_model.fit_generator(\n",
    "        train_generator,\n",
    "        steps_per_epoch=28709 // 64,\n",
    "        epochs=50,\n",
    "        validation_data=validation_generator,\n",
    "        validation_steps=7178 // 64)"
   ]
  },
  {
   "cell_type": "code",
   "execution_count": 9,
   "id": "8a399e5b-dd5c-4d14-8d8b-2733557ea4e7",
   "metadata": {
    "tags": []
   },
   "outputs": [],
   "source": [
    "# save model structure in jason file\n",
    "model_json = emotion_model.to_json()\n",
    "with open(\"emotion_model.json\", \"w\") as json_file:\n",
    "    json_file.write(model_json)"
   ]
  },
  {
   "cell_type": "code",
   "execution_count": 10,
   "id": "4cdcd5a5-b840-4487-aa4f-fc6a4583cbbc",
   "metadata": {
    "tags": []
   },
   "outputs": [],
   "source": [
    "# save trained model weight in .h5 file\n",
    "emotion_model.save_weights('emotion_model.h5')"
   ]
  },
  {
   "cell_type": "code",
   "execution_count": null,
   "id": "5a74cf06-b74d-4565-9760-53b861ce488e",
   "metadata": {},
   "outputs": [],
   "source": []
  }
 ],
 "metadata": {
  "kernelspec": {
   "display_name": "Python 3 (ipykernel)",
   "language": "python",
   "name": "python3"
  },
  "language_info": {
   "codemirror_mode": {
    "name": "ipython",
    "version": 3
   },
   "file_extension": ".py",
   "mimetype": "text/x-python",
   "name": "python",
   "nbconvert_exporter": "python",
   "pygments_lexer": "ipython3",
   "version": "3.10.5"
  }
 },
 "nbformat": 4,
 "nbformat_minor": 5
}
